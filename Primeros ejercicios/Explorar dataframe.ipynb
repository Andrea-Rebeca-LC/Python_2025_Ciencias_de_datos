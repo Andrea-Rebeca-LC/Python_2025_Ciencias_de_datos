{
 "cells": [
  {
   "cell_type": "code",
   "execution_count": null,
   "id": "91a23434",
   "metadata": {},
   "outputs": [],
   "source": [
    "def import_csv(file):\n",
    "    # Read the file into a DataFrame: df\n",
    "    import pandas as pd\n",
    "    return pd.read_csv(file)"
   ]
  },
  {
   "cell_type": "code",
   "execution_count": null,
   "id": "8ef2a7f0",
   "metadata": {},
   "outputs": [],
   "source": [
    "# Path to the file to be imported\n",
    "path = \"Terminos_lagoon_TA_DIC_2023_RawData.csv\"\n",
    "\n",
    "# Import the file\n",
    "CO2Data_df = import_csv(path)"
   ]
  },
  {
   "cell_type": "markdown",
   "id": "d2c0bce5",
   "metadata": {},
   "source": [
    "#Leer encabezados de base de datos"
   ]
  },
  {
   "cell_type": "code",
   "execution_count": null,
   "id": "2a2a050c",
   "metadata": {},
   "outputs": [],
   "source": [
    "print(CO2Data_df.head())"
   ]
  },
  {
   "cell_type": "code",
   "execution_count": null,
   "id": "4cf2e1ed",
   "metadata": {},
   "outputs": [],
   "source": [
    "# Print variable names\n",
    "print(CO2Data_df.columns)"
   ]
  },
  {
   "cell_type": "code",
   "execution_count": null,
   "id": "ebf9f58e",
   "metadata": {},
   "outputs": [],
   "source": [
    "ta = CO2Data_df['ta_micromol_kg']"
   ]
  },
  {
   "cell_type": "code",
   "execution_count": null,
   "id": "15f7034f",
   "metadata": {},
   "outputs": [],
   "source": [
    "dic = CO2Data_df['dic_micromol_kg']"
   ]
  },
  {
   "cell_type": "code",
   "execution_count": null,
   "id": "4aadcaf0",
   "metadata": {},
   "outputs": [],
   "source": [
    "chl = CO2Data_df['chlorophy_microg_l']"
   ]
  },
  {
   "cell_type": "code",
   "execution_count": null,
   "id": "31982548",
   "metadata": {},
   "outputs": [],
   "source": [
    "do = CO2Data_df['do_percent_sat']"
   ]
  },
  {
   "cell_type": "code",
   "execution_count": null,
   "id": "310b49bc",
   "metadata": {},
   "outputs": [],
   "source": [
    "temp = CO2Data_df['temp_c']"
   ]
  },
  {
   "cell_type": "code",
   "execution_count": null,
   "id": "529924c3",
   "metadata": {},
   "outputs": [],
   "source": [
    "dic_ta_data = CO2Data_df[['dic_micromol_kg', 'ta_micromol_kg']]"
   ]
  },
  {
   "cell_type": "code",
   "execution_count": null,
   "id": "ca386c65",
   "metadata": {},
   "outputs": [],
   "source": [
    "eutro = CO2Data_df[['chlorophy_microg_l', 'do_percent_sat', 'temp_c']]"
   ]
  },
  {
   "cell_type": "code",
   "execution_count": null,
   "id": "bd96d621",
   "metadata": {},
   "outputs": [],
   "source": [
    "eutro.plot()"
   ]
  },
  {
   "cell_type": "code",
   "execution_count": null,
   "id": "0e482af9",
   "metadata": {},
   "outputs": [],
   "source": [
    "dic_ta_data.plot()"
   ]
  },
  {
   "cell_type": "code",
   "execution_count": null,
   "id": "cf6b7850",
   "metadata": {},
   "outputs": [],
   "source": [
    "CO2Data_rainy = CO2Data_df[CO2Data_df['season'] == 'Rainy']"
   ]
  },
  {
   "cell_type": "code",
   "execution_count": null,
   "id": "1d9c2877",
   "metadata": {},
   "outputs": [],
   "source": [
    "CO2Data_rainy"
   ]
  },
  {
   "cell_type": "code",
   "execution_count": null,
   "id": "e4883a73",
   "metadata": {},
   "outputs": [],
   "source": [
    "CO2Data_no_Candelaria = CO2Data_df[CO2Data_df['estuary'] != 'Candelaria']"
   ]
  },
  {
   "cell_type": "code",
   "execution_count": null,
   "id": "83ab3373",
   "metadata": {},
   "outputs": [],
   "source": [
    "CO2Data_surface = CO2Data_df[CO2Data_df['depth_m'] > 0.5 ]"
   ]
  },
  {
   "cell_type": "code",
   "execution_count": null,
   "id": "2bbd8d9e",
   "metadata": {},
   "outputs": [],
   "source": [
    "CO2Data_surface"
   ]
  },
  {
   "cell_type": "code",
   "execution_count": null,
   "id": "a81c10a5",
   "metadata": {},
   "outputs": [],
   "source": []
  }
 ],
 "metadata": {
  "kernelspec": {
   "display_name": "base",
   "language": "python",
   "name": "python3"
  },
  "language_info": {
   "codemirror_mode": {
    "name": "ipython",
    "version": 3
   },
   "file_extension": ".py",
   "mimetype": "text/x-python",
   "name": "python",
   "nbconvert_exporter": "python",
   "pygments_lexer": "ipython3",
   "version": "3.13.2"
  }
 },
 "nbformat": 4,
 "nbformat_minor": 5
}
