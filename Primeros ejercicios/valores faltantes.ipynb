{
 "cells": [
  {
   "cell_type": "code",
   "execution_count": null,
   "id": "7ac9bd45",
   "metadata": {},
   "outputs": [],
   "source": [
    "def import_csv(file):\n",
    "    # leer dataframe\n",
    "    import pandas as pd\n",
    "    return pd.read_csv(file)"
   ]
  },
  {
   "cell_type": "code",
   "execution_count": null,
   "id": "efd4d076",
   "metadata": {},
   "outputs": [],
   "source": [
    "# Path to the file to be imported\n",
    "path = \"Terminos_lagoon_TA_DIC_2023_RawData.csv\"\n",
    "\n",
    "# Import the file\n",
    "CO2Data_df = import_csv(path)"
   ]
  },
  {
   "cell_type": "code",
   "execution_count": null,
   "id": "2f4661a4",
   "metadata": {},
   "outputs": [],
   "source": [
    "# columnas y filas de DataFrame\n",
    "print(CO2Data_df.shape)"
   ]
  },
  {
   "cell_type": "code",
   "execution_count": null,
   "id": "bfd67fb2",
   "metadata": {},
   "outputs": [],
   "source": [
    "#encabezado\n",
    "print(CO2Data_df.head())"
   ]
  },
  {
   "cell_type": "code",
   "execution_count": null,
   "id": "11e4d13b",
   "metadata": {},
   "outputs": [],
   "source": [
    "# información de DataFrame\n",
    "print(CO2Data_df.info())"
   ]
  },
  {
   "cell_type": "code",
   "execution_count": null,
   "id": "023c3ca4",
   "metadata": {},
   "outputs": [],
   "source": [
    "# Print information about the DataFrame\n",
    "print(CO2Data_df.info())"
   ]
  },
  {
   "cell_type": "code",
   "execution_count": null,
   "id": "92d948df",
   "metadata": {},
   "outputs": [],
   "source": [
    "# describe estadisticos\n",
    "print(CO2Data_df.describe())"
   ]
  },
  {
   "cell_type": "markdown",
   "id": "ede1a7a8",
   "metadata": {},
   "source": [
    "##Faltan valores en las columnas "
   ]
  },
  {
   "cell_type": "code",
   "execution_count": null,
   "id": "0f174e14",
   "metadata": {},
   "outputs": [],
   "source": [
    "# Use the Pandas isnull() function to identify the number of missing values in each column.\n",
    "print(CO2Data_df.isnull().sum())"
   ]
  },
  {
   "cell_type": "markdown",
   "id": "ef84a858",
   "metadata": {},
   "source": [
    "#se crea una copia"
   ]
  },
  {
   "cell_type": "code",
   "execution_count": null,
   "id": "be647abc",
   "metadata": {},
   "outputs": [],
   "source": [
    "# nuevo dataframe \n",
    "CO2Data_fill = CO2Data_df.copy()\n",
    "\n",
    "# Usa fill method \n",
    "#fill es una funcion para rellenar cuando te faltan valores \n",
    "#ffill es forward\n",
    "CO2Data_fill = CO2Data_fill.fillna(method=\"ffill\")\n",
    "\n"
   ]
  },
  {
   "cell_type": "code",
   "execution_count": null,
   "id": "de3b7421",
   "metadata": {},
   "outputs": [],
   "source": [
    "#ya no hay valores 0\n",
    "print(CO2Data_fill.isnull().sum())"
   ]
  },
  {
   "cell_type": "markdown",
   "id": "124f8783",
   "metadata": {},
   "source": [
    "interpolación de datos "
   ]
  },
  {
   "cell_type": "code",
   "execution_count": null,
   "id": "b4918ba4",
   "metadata": {},
   "outputs": [],
   "source": [
    "CO2Data_fill_linear = CO2Data_df.copy()\n",
    "\n",
    "CO2Data_fill_linear = CO2Data_fill_linear.interpolate(method='linear')\n",
    "\n",
    "print(CO2Data_fill_linear.isnull().sum())"
   ]
  },
  {
   "cell_type": "markdown",
   "id": "3ce927db",
   "metadata": {},
   "source": [
    "Ejercicio "
   ]
  },
  {
   "cell_type": "code",
   "execution_count": null,
   "id": "c755e5e8",
   "metadata": {},
   "outputs": [],
   "source": [
    "#nueva columna\n",
    "#copiar base de datos \n",
    "CO2Data_newcol = CO2Data_df.copy()\n",
    "CO2Data_newcol[\"TA_DIC_ratio\"] = CO2Data_newcol[\"ta_micromol_kg\"] / CO2Data_newcol[\"dic_micromol_kg\"]\n"
   ]
  },
  {
   "cell_type": "markdown",
   "id": "aabf8f39",
   "metadata": {},
   "source": [
    "Imprime el resultado y se verifica que realice la tasa de ta/dic"
   ]
  },
  {
   "cell_type": "code",
   "execution_count": null,
   "id": "c49a0aca",
   "metadata": {},
   "outputs": [],
   "source": [
    "print(CO2Data_newcol.head(6))"
   ]
  },
  {
   "cell_type": "markdown",
   "id": "a47a42e7",
   "metadata": {},
   "source": [
    "calcular promedio y desviación estandar nueva columna por temporada "
   ]
  },
  {
   "cell_type": "markdown",
   "id": "97c05920",
   "metadata": {},
   "source": [
    "calcular promedio y desviación estandar por temporada y area "
   ]
  },
  {
   "cell_type": "code",
   "execution_count": 20,
   "id": "2a2baf08",
   "metadata": {},
   "outputs": [
    {
     "name": "stdout",
     "output_type": "stream",
     "text": [
      "            mean       std\n",
      "season                    \n",
      "Dry     1.058558  0.086111\n",
      "Rainy   1.022350  0.100924\n"
     ]
    }
   ],
   "source": [
    "CO2_season = CO2Data_newcol.groupby([\"season\"])[\"TA_DIC_ratio\"].agg([\"mean\", \"std\"])\n",
    "\n",
    "#imprimimos el resultado \n",
    "print(CO2_season)"
   ]
  },
  {
   "cell_type": "code",
   "execution_count": null,
   "id": "3ff3b35f",
   "metadata": {},
   "outputs": [
    {
     "name": "stdout",
     "output_type": "stream",
     "text": [
      "                  mean       std\n",
      "season area                     \n",
      "Dry    Coast  1.115766  0.115033\n",
      "       Plume  1.059687  0.035574\n",
      "       River  1.000221  0.037747\n",
      "Rainy  Coast  1.090127  0.129658\n",
      "       Plume  1.025544  0.049222\n",
      "       River  0.945217  0.025084\n"
     ]
    }
   ],
   "source": [
    "#vamos a agrupar por estación   y por area \n",
    "CO2_season_area_ = CO2Data_newcol.groupby([\"season\", \"area\"])[\"TA_DIC_ratio\"].agg([\"mean\", \"std\"]).reset_index()\n",
    "\n",
    "#imprimimos el resultado \n",
    "print(CO2_season_area_)\n",
    "\n"
   ]
  },
  {
   "cell_type": "markdown",
   "id": "d5bee6a2",
   "metadata": {},
   "source": [
    "exportar como archivo de excel"
   ]
  },
  {
   "cell_type": "code",
   "execution_count": 23,
   "id": "fc6a2c0d",
   "metadata": {},
   "outputs": [],
   "source": [
    "CO2_season_area_.to_excel(\"TA_DIC_Season_Area.xlsx\", sheet_name=\"Hoja 1\", index=True)\n"
   ]
  }
 ],
 "metadata": {
  "kernelspec": {
   "display_name": "base",
   "language": "python",
   "name": "python3"
  },
  "language_info": {
   "codemirror_mode": {
    "name": "ipython",
    "version": 3
   },
   "file_extension": ".py",
   "mimetype": "text/x-python",
   "name": "python",
   "nbconvert_exporter": "python",
   "pygments_lexer": "ipython3",
   "version": "3.13.2"
  }
 },
 "nbformat": 4,
 "nbformat_minor": 5
}
