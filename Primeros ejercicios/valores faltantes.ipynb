{
 "cells": [
  {
   "cell_type": "code",
   "execution_count": null,
   "id": "7ac9bd45",
   "metadata": {},
   "outputs": [],
   "source": [
    "def import_csv(file):\n",
    "    # leer dataframe\n",
    "    import pandas as pd\n",
    "    return pd.read_csv(file)"
   ]
  },
  {
   "cell_type": "code",
   "execution_count": null,
   "id": "efd4d076",
   "metadata": {},
   "outputs": [],
   "source": [
    "# Path to the file to be imported\n",
    "path = \"Terminos_lagoon_TA_DIC_2023_RawData.csv\"\n",
    "\n",
    "# Import the file\n",
    "CO2Data_df = import_csv(path)"
   ]
  },
  {
   "cell_type": "code",
   "execution_count": null,
   "id": "2f4661a4",
   "metadata": {},
   "outputs": [],
   "source": [
    "# columnas y filas de DataFrame\n",
    "print(CO2Data_df.shape)"
   ]
  },
  {
   "cell_type": "code",
   "execution_count": null,
   "id": "bfd67fb2",
   "metadata": {},
   "outputs": [],
   "source": [
    "#encabezado\n",
    "print(CO2Data_df.head())"
   ]
  },
  {
   "cell_type": "code",
   "execution_count": null,
   "id": "11e4d13b",
   "metadata": {},
   "outputs": [],
   "source": [
    "# información de DataFrame\n",
    "print(CO2Data_df.info())"
   ]
  },
  {
   "cell_type": "code",
   "execution_count": null,
   "id": "023c3ca4",
   "metadata": {},
   "outputs": [],
   "source": [
    "# Print information about the DataFrame\n",
    "print(CO2Data_df.info())"
   ]
  },
  {
   "cell_type": "code",
   "execution_count": null,
   "id": "92d948df",
   "metadata": {},
   "outputs": [],
   "source": [
    "# describe estadisticos\n",
    "print(CO2Data_df.describe())"
   ]
  },
  {
   "cell_type": "markdown",
   "id": "ede1a7a8",
   "metadata": {},
   "source": [
    "##Faltan valores en las columnas "
   ]
  },
  {
   "cell_type": "code",
   "execution_count": null,
   "id": "0f174e14",
   "metadata": {},
   "outputs": [],
   "source": [
    "# Use the Pandas isnull() function to identify the number of missing values in each column.\n",
    "print(CO2Data_df.isnull().sum())"
   ]
  },
  {
   "cell_type": "markdown",
   "id": "ef84a858",
   "metadata": {},
   "source": [
    "#se crea una copia"
   ]
  },
  {
   "cell_type": "code",
   "execution_count": null,
   "id": "be647abc",
   "metadata": {},
   "outputs": [],
   "source": [
    "# nuevo dataframe \n",
    "CO2Data_fill = CO2Data_df.copy()\n",
    "\n",
    "# Usa fill method \n",
    "#fill es una funcion para rellenar cuando te faltan valores \n",
    "#ffill es forward\n",
    "CO2Data_fill = CO2Data_fill.fillna(method=\"ffill\")\n",
    "\n"
   ]
  },
  {
   "cell_type": "code",
   "execution_count": null,
   "id": "de3b7421",
   "metadata": {},
   "outputs": [],
   "source": [
    "#ya no hay valores 0\n",
    "print(CO2Data_fill.isnull().sum())"
   ]
  },
  {
   "cell_type": "markdown",
   "id": "124f8783",
   "metadata": {},
   "source": [
    "interpolación de datos "
   ]
  },
  {
   "cell_type": "code",
   "execution_count": 19,
   "id": "b4918ba4",
   "metadata": {},
   "outputs": [
    {
     "name": "stdout",
     "output_type": "stream",
     "text": [
      "sample                     0\n",
      "date                       0\n",
      "estuary                    0\n",
      "area                       0\n",
      "station                    0\n",
      "layer_depth                0\n",
      "season                     0\n",
      "chlorophy_microg_l         0\n",
      "cond_microsiemens_cm       0\n",
      "depth_m                    0\n",
      "do_percent_sat             0\n",
      "do_mg_l                    0\n",
      "sal_psu                    0\n",
      "sp_cond_microsiemens_cm    0\n",
      "turbidity_fnu              0\n",
      "temp_c                     0\n",
      "latitude                   0\n",
      "longitude                  0\n",
      "dic_micromol_kg            0\n",
      "ta_micromol_kg             0\n",
      "dummy_data                 0\n",
      "dtype: int64\n"
     ]
    },
    {
     "name": "stderr",
     "output_type": "stream",
     "text": [
      "C:\\Users\\Lab\\AppData\\Local\\Temp\\ipykernel_4272\\2646150499.py:3: FutureWarning: DataFrame.interpolate with object dtype is deprecated and will raise in a future version. Call obj.infer_objects(copy=False) before interpolating instead.\n",
      "  CO2Data_fill_linear = CO2Data_fill_linear.interpolate(method='linear')\n"
     ]
    }
   ],
   "source": [
    "CO2Data_fill_linear = CO2Data_df.copy()\n",
    "\n",
    "CO2Data_fill_linear = CO2Data_fill_linear.interpolate(method='linear')\n",
    "\n",
    "print(CO2Data_fill_linear.isnull().sum())"
   ]
  },
  {
   "cell_type": "code",
   "execution_count": null,
   "id": "20000e1f",
   "metadata": {},
   "outputs": [],
   "source": []
  }
 ],
 "metadata": {
  "kernelspec": {
   "display_name": "base",
   "language": "python",
   "name": "python3"
  },
  "language_info": {
   "codemirror_mode": {
    "name": "ipython",
    "version": 3
   },
   "file_extension": ".py",
   "mimetype": "text/x-python",
   "name": "python",
   "nbconvert_exporter": "python",
   "pygments_lexer": "ipython3",
   "version": "3.13.2"
  }
 },
 "nbformat": 4,
 "nbformat_minor": 5
}
