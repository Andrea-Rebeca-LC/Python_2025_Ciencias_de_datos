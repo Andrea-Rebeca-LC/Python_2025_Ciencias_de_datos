{
 "cells": [
  {
   "cell_type": "code",
   "execution_count": null,
   "id": "105c7260",
   "metadata": {},
   "outputs": [],
   "source": [
    "import pandas as pd\n",
    "\n",
    "def read_csv_dataframe(file_path):\n",
    "    \"\"\"\n",
    "    Reads a CSV file and returns a pandas DataFrame.\n",
    "\n",
    "    Parameters\n",
    "    ----------\n",
    "    file_path : str\n",
    "        The path to the CSV file.\n",
    "\n",
    "    Returns\n",
    "    -------\n",
    "    pd.DataFrame\n",
    "        A DataFrame containing the data from the CSV file.\n",
    "    \"\"\"\n",
    "    try:\n",
    "        df = pd.read_csv(file_path)\n",
    "        return df\n",
    "    except Exception as e:\n",
    "        print(f\"Error reading CSV file: {e}\")\n",
    "        return None  "
   ]
  },
  {
   "cell_type": "code",
   "execution_count": null,
   "id": "12bcd6ed",
   "metadata": {},
   "outputs": [],
   "source": [
    "terminos = read_csv_dataframe(\"Terminos_lagoon_TA_DIC_2023_RawData.csv\")"
   ]
  },
  {
   "cell_type": "code",
   "execution_count": null,
   "id": "a0a67170",
   "metadata": {},
   "outputs": [],
   "source": [
    "print(terminos.head(10))\n"
   ]
  },
  {
   "cell_type": "code",
   "execution_count": null,
   "id": "8c225ca7",
   "metadata": {},
   "outputs": [],
   "source": [
    "print(terminos.info())"
   ]
  },
  {
   "cell_type": "code",
   "execution_count": null,
   "id": "047fc66c",
   "metadata": {},
   "outputs": [],
   "source": [
    "print(terminos.describe())"
   ]
  },
  {
   "cell_type": "code",
   "execution_count": null,
   "id": "1d6fe5ea",
   "metadata": {},
   "outputs": [],
   "source": [
    "print(terminos.columns)"
   ]
  },
  {
   "cell_type": "code",
   "execution_count": null,
   "id": "ba15b7cb",
   "metadata": {},
   "outputs": [],
   "source": []
  }
 ],
 "metadata": {
  "kernelspec": {
   "display_name": "base",
   "language": "python",
   "name": "python3"
  },
  "language_info": {
   "codemirror_mode": {
    "name": "ipython",
    "version": 3
   },
   "file_extension": ".py",
   "mimetype": "text/x-python",
   "name": "python",
   "nbconvert_exporter": "python",
   "pygments_lexer": "ipython3",
   "version": "3.13.2"
  }
 },
 "nbformat": 4,
 "nbformat_minor": 5
}
