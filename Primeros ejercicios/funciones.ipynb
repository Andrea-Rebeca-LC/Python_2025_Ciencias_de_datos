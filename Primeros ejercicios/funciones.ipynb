{
 "cells": [
  {
   "cell_type": "code",
   "execution_count": 1,
   "id": "c9914483",
   "metadata": {},
   "outputs": [],
   "source": [
    "def saludar():\n",
    "    print(\"¡Hola!\")\n"
   ]
  },
  {
   "cell_type": "code",
   "execution_count": 2,
   "id": "d765f2b6",
   "metadata": {},
   "outputs": [
    {
     "name": "stdout",
     "output_type": "stream",
     "text": [
      "¡Hola!\n"
     ]
    }
   ],
   "source": [
    "saludar()"
   ]
  },
  {
   "cell_type": "code",
   "execution_count": 3,
   "id": "4dea7255",
   "metadata": {},
   "outputs": [],
   "source": [
    "def suma(a, b):\n",
    "    return a + b"
   ]
  },
  {
   "cell_type": "code",
   "execution_count": 4,
   "id": "a3006b9e",
   "metadata": {},
   "outputs": [
    {
     "name": "stdout",
     "output_type": "stream",
     "text": [
      "El resultado de la suma es: 8\n"
     ]
    }
   ],
   "source": [
    "resultado = suma(5, 3)\n",
    "print(\"El resultado de la suma es:\", resultado)"
   ]
  },
  {
   "cell_type": "markdown",
   "id": "be4e4592",
   "metadata": {},
   "source": [
    "## composición de 2 funciones "
   ]
  },
  {
   "cell_type": "code",
   "execution_count": 3,
   "id": "50523a08",
   "metadata": {},
   "outputs": [],
   "source": [
    "#suma de 2 numeros\n",
    "def suma(num1, num2):\n",
    "    return num1 + num2"
   ]
  },
  {
   "cell_type": "code",
   "execution_count": 4,
   "id": "3bb07afd",
   "metadata": {},
   "outputs": [],
   "source": [
    "# raiz de  numero\n",
    "def raiz_de_numero(num):\n",
    "    return num * num\n"
   ]
  },
  {
   "cell_type": "code",
   "execution_count": 5,
   "id": "de5cc431",
   "metadata": {},
   "outputs": [],
   "source": [
    "#suma de cuadrados\n",
    "def suma_de_cuadrados(num1, num2):\n",
    "    return raiz_de_numero(suma(num1, num2))\n",
    "\n"
   ]
  },
  {
   "cell_type": "code",
   "execution_count": 6,
   "id": "ec557855",
   "metadata": {},
   "outputs": [
    {
     "name": "stdout",
     "output_type": "stream",
     "text": [
      "144\n"
     ]
    }
   ],
   "source": [
    "print(suma_de_cuadrados(5,7))"
   ]
  },
  {
   "cell_type": "code",
   "execution_count": 7,
   "id": "45fb3323",
   "metadata": {},
   "outputs": [],
   "source": [
    "def add_tree(x):\n",
    "    return x + 3"
   ]
  },
  {
   "cell_type": "code",
   "execution_count": 8,
   "id": "d57320b2",
   "metadata": {},
   "outputs": [
    {
     "name": "stdout",
     "output_type": "stream",
     "text": [
      "9\n"
     ]
    }
   ],
   "source": [
    "print(add_tree(6))\n"
   ]
  },
  {
   "cell_type": "code",
   "execution_count": 9,
   "id": "9a72f2bf",
   "metadata": {},
   "outputs": [],
   "source": [
    "def reciprocla(f):\n",
    "    return 1/f"
   ]
  },
  {
   "cell_type": "code",
   "execution_count": 11,
   "id": "5dd008ba",
   "metadata": {},
   "outputs": [],
   "source": [
    "#composición 2 funciones \n",
    "def composite_funtion(x):\n",
    "    return reciprocla(add_tree(x))"
   ]
  },
  {
   "cell_type": "code",
   "execution_count": 12,
   "id": "cc2828c7",
   "metadata": {},
   "outputs": [
    {
     "data": {
      "text/plain": [
       "0.25"
      ]
     },
     "execution_count": 12,
     "metadata": {},
     "output_type": "execute_result"
    }
   ],
   "source": [
    "composite_funtion(1)"
   ]
  },
  {
   "cell_type": "code",
   "execution_count": 13,
   "id": "13306e10",
   "metadata": {},
   "outputs": [
    {
     "name": "stdout",
     "output_type": "stream",
     "text": [
      "0.25\n"
     ]
    }
   ],
   "source": [
    "result= 1/(1+3)\n",
    "print(result)\n"
   ]
  },
  {
   "cell_type": "code",
   "execution_count": 14,
   "id": "fef35d02",
   "metadata": {},
   "outputs": [
    {
     "data": {
      "text/plain": [
       "0.3076923076923077"
      ]
     },
     "execution_count": 14,
     "metadata": {},
     "output_type": "execute_result"
    }
   ],
   "source": [
    "composite_funtion(composite_funtion(1))\n"
   ]
  },
  {
   "cell_type": "markdown",
   "id": "4e5f6c47",
   "metadata": {},
   "source": [
    "#Tarea \n",
    "## crear función del valor absoluto "
   ]
  },
  {
   "cell_type": "code",
   "execution_count": 17,
   "id": "ce0ab696",
   "metadata": {},
   "outputs": [],
   "source": [
    "# funcion de valor absoluto definida\n",
    "def valor_absoluto(c):\n",
    "    if c < 0:\n",
    "        return -c\n",
    "    else:\n",
    "        return c"
   ]
  },
  {
   "cell_type": "code",
   "execution_count": 18,
   "id": "303d0277",
   "metadata": {},
   "outputs": [
    {
     "name": "stdout",
     "output_type": "stream",
     "text": [
      "25\n",
      "14\n",
      "0\n"
     ]
    }
   ],
   "source": [
    "print(valor_absoluto(-25))\n",
    "print(valor_absoluto(14))\n",
    "print(valor_absoluto(0))"
   ]
  },
  {
   "cell_type": "code",
   "execution_count": null,
   "id": "f4e0bd8a",
   "metadata": {},
   "outputs": [],
   "source": []
  }
 ],
 "metadata": {
  "kernelspec": {
   "display_name": "base",
   "language": "python",
   "name": "python3"
  },
  "language_info": {
   "codemirror_mode": {
    "name": "ipython",
    "version": 3
   },
   "file_extension": ".py",
   "mimetype": "text/x-python",
   "name": "python",
   "nbconvert_exporter": "python",
   "pygments_lexer": "ipython3",
   "version": "3.13.2"
  }
 },
 "nbformat": 4,
 "nbformat_minor": 5
}
