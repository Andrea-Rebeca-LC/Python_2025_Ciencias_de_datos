{
 "cells": [
  {
   "cell_type": "markdown",
   "id": "daf63240",
   "metadata": {},
   "source": [
    "## Final  project\n",
    "This project is to know the annual distribution of nutrients in a body of water and how the variables correlate with each other."
   ]
  },
  {
   "cell_type": "markdown",
   "id": "5eeaeba9",
   "metadata": {},
   "source": [
    "Fist read the data base"
   ]
  },
  {
   "cell_type": "code",
   "execution_count": null,
   "id": "6765f7fd",
   "metadata": {},
   "outputs": [],
   "source": [
    "import pandas as pd\n",
    "nutData = pd.read_csv(\"Proyecto_datos.csv\")"
   ]
  },
  {
   "cell_type": "code",
   "execution_count": 32,
   "id": "9ebb8bb4",
   "metadata": {},
   "outputs": [
    {
     "name": "stdout",
     "output_type": "stream",
     "text": [
      "             code  station        date          date.utc     nh4.ugl  no2.ugl  \\\n",
      "0  mzt.1.20240115        1  2024-01-15  2024-01-15 16:47    9.048075    -0.85   \n",
      "1  mzt.2.20240115        2  2024-01-15  2024-01-15 18:04   10.520758    -0.10   \n",
      "2  mzt.3.20240115        3  2024-01-15  2024-01-15 18:21    7.410000     2.46   \n",
      "3  mzt.4.20240115        4  2024-01-15  2024-01-15 21:37  172.680000    18.06   \n",
      "4   mzt5.20240115        5  2024-01-15  2024-01-15 20:42   88.180000     5.91   \n",
      "\n",
      "   no3.ugl  po4.ugl  sio4.mgl  tn.ugl  tp.ugl   tsi.mgl  \\\n",
      "0    -0.36    13.32      0.07  174.74   21.84  0.088943   \n",
      "1    -5.58    11.79     -0.03  160.55   19.77  0.022000   \n",
      "2    -7.81    10.89     -0.03  149.78   24.51  0.052000   \n",
      "3    51.08    42.76      0.17  538.65   54.75  0.276000   \n",
      "4    56.90    47.66      0.17  548.43   52.11  0.262000   \n",
      "\n",
      "                                equipment          DT  \n",
      "0  UV-VIS Agilent (DN)/UV-VIS Genesys(TN)    9.048075  \n",
      "1  UV-VIS Agilent (DN)/UV-VIS Genesys(TN)   10.520758  \n",
      "2  UV-VIS Agilent (DN)/UV-VIS Genesys(TN)    9.870000  \n",
      "3  UV-VIS Agilent (DN)/UV-VIS Genesys(TN)  241.820000  \n",
      "4  UV-VIS Agilent (DN)/UV-VIS Genesys(TN)  150.990000  \n"
     ]
    }
   ],
   "source": [
    "print(nutData.head()) "
   ]
  },
  {
   "cell_type": "markdown",
   "id": "08476062",
   "metadata": {},
   "source": [
    "start with data exploration"
   ]
  },
  {
   "cell_type": "code",
   "execution_count": null,
   "id": "fd0a12c5",
   "metadata": {},
   "outputs": [],
   "source": [
    "#box plot for each nutrient\n",
    "import matplotlib.pyplot as plt\n",
    "data = nutData[\"nh4.ugl\"]\n",
    "\n",
    "fig2, ax2 = plt.subplots()\n",
    "\n",
    "ax2.set_title('Notched boxes')\n",
    "ax2.boxplot(data, notch=True)\n",
    "# add red line in y=0\n",
    "ax2.axhline(y=0, color='red', linestyle='--', linewidth=1)\n",
    "plt.ylabel('Ammonium ($\\mu g \\; L^{-1}$)', fontsize = 12)\n",
    "plt.show()"
   ]
  },
  {
   "cell_type": "code",
   "execution_count": null,
   "id": "227dd0e8",
   "metadata": {},
   "outputs": [],
   "source": [
    "data = nutData[\"no2.ugl\"]\n",
    "\n",
    "fig2, ax2 = plt.subplots()\n",
    "\n",
    "ax2.set_title('Notched boxes')\n",
    "ax2.boxplot(data, notch=True)\n",
    "# add red line in y=0\n",
    "ax2.axhline(y=0, color='red', linestyle='--', linewidth=1)\n",
    "plt.ylabel('Nitrite ($\\mu g \\; L^{-1}$)', fontsize = 12)\n",
    "plt.show()"
   ]
  },
  {
   "cell_type": "code",
   "execution_count": null,
   "id": "0c7a2389",
   "metadata": {},
   "outputs": [],
   "source": [
    "data = nutData[\"no3.ugl\"]\n",
    "\n",
    "fig2, ax2 = plt.subplots()\n",
    "\n",
    "ax2.set_title('Notched boxes')\n",
    "ax2.boxplot(data, notch=True)\n",
    "# add red line in y=0\n",
    "ax2.axhline(y=0, color='red', linestyle='--', linewidth=1)\n",
    "plt.ylabel('Nitrite ($\\mu g \\; kg^{-1}$)', fontsize = 12)\n",
    "plt.show()"
   ]
  },
  {
   "cell_type": "code",
   "execution_count": 34,
   "id": "ce87faa8",
   "metadata": {},
   "outputs": [
    {
     "name": "stderr",
     "output_type": "stream",
     "text": [
      "<>:10: SyntaxWarning: invalid escape sequence '\\m'\n",
      "<>:10: SyntaxWarning: invalid escape sequence '\\m'\n",
      "C:\\Users\\Lab\\AppData\\Local\\Temp\\ipykernel_20112\\1743175664.py:10: SyntaxWarning: invalid escape sequence '\\m'\n",
      "  plt.ylabel('TN ($\\mu g \\; L^{-1}$)', fontsize = 12)\n"
     ]
    },
    {
     "data": {
      "image/png": "[encoded data removed]",
      "text/plain": [
       "<Figure size 640x480 with 1 Axes>"
      ]
     },
     "metadata": {},
     "output_type": "display_data"
    }
   ],
   "source": [
    "import matplotlib.pyplot as plt\n",
    "data = nutData[\"tp.ugl\"]\n",
    "\n",
    "fig2, ax2 = plt.subplots()\n",
    "\n",
    "ax2.set_title('Notched boxes')\n",
    "ax2.boxplot(data, notch=True)\n",
    "# add red line in y=0\n",
    "ax2.axhline(y=0, color='red', linestyle='--', linewidth=1)\n",
    "plt.ylabel('TN ($\\mu g \\; L^{-1}$)', fontsize = 12)\n",
    "plt.show()"
   ]
  },
  {
   "cell_type": "code",
   "execution_count": null,
   "id": "8588dc65",
   "metadata": {},
   "outputs": [],
   "source": [
    "data = nutData[\"po4.ugl\"]\n",
    "\n",
    "fig2, ax2 = plt.subplots()\n",
    "\n",
    "ax2.set_title('Notched boxes')\n",
    "ax2.boxplot(data, notch=True)\n",
    "# add red line in y=0\n",
    "ax2.axhline(y=0, color='red', linestyle='--', linewidth=1)\n",
    "plt.ylabel('Phosphate ($\\mu g \\; L^{-1}$)', fontsize = 12)\n",
    "plt.show()"
   ]
  },
  {
   "cell_type": "code",
   "execution_count": null,
   "id": "e5714119",
   "metadata": {},
   "outputs": [],
   "source": [
    "data = nutData[\"sio4.mgl\"]\n",
    "\n",
    "fig2, ax2 = plt.subplots()\n",
    "\n",
    "ax2.set_title('Notched boxes')\n",
    "ax2.boxplot(data, notch=True)\n",
    "# add red line in y=0\n",
    "ax2.axhline(y=0, color='red', linestyle='--', linewidth=1)\n",
    "plt.ylabel('Silicate ($mg \\; L^{-1}$)', fontsize = 12)\n",
    "plt.show()"
   ]
  },
  {
   "cell_type": "code",
   "execution_count": null,
   "id": "b0dc21a1",
   "metadata": {},
   "outputs": [],
   "source": [
    "import pandas as pd\n",
    "\n",
    "#  DataFrame nutData\n",
    "cols = [\"nh4.ugl\", \"no2.ugl\", \"no3.ugl\"]\n",
    "\n",
    "# New column DT as sum of positive values\n",
    "nutData[\"DT\"] = nutData[cols].apply(lambda row: row[row > 0].sum(), axis=1)"
   ]
  },
  {
   "cell_type": "code",
   "execution_count": null,
   "id": "3702c41d",
   "metadata": {},
   "outputs": [],
   "source": [
    "print(nutData.head()) "
   ]
  },
  {
   "cell_type": "code",
   "execution_count": null,
   "id": "e2aa8eed",
   "metadata": {},
   "outputs": [],
   "source": [
    "data = nutData[\"DT\"]\n",
    "\n",
    "fig2, ax2 = plt.subplots()\n",
    "\n",
    "ax2.set_title('Notched boxes')\n",
    "ax2.boxplot(data, notch=True)\n",
    "# add red line in y=0\n",
    "ax2.axhline(y=0, color='red', linestyle='--', linewidth=1)\n",
    "plt.ylabel('DT ($\\mu g \\; kg^{-1}$)', fontsize = 12)\n",
    "plt.show()"
   ]
  },
  {
   "cell_type": "code",
   "execution_count": 36,
   "id": "e10025ed",
   "metadata": {},
   "outputs": [
    {
     "name": "stderr",
     "output_type": "stream",
     "text": [
      "<>:19: SyntaxWarning: invalid escape sequence '\\m'\n",
      "<>:19: SyntaxWarning: invalid escape sequence '\\m'\n",
      "C:\\Users\\Lab\\AppData\\Local\\Temp\\ipykernel_20112\\77256741.py:19: SyntaxWarning: invalid escape sequence '\\m'\n",
      "  plt.ylabel('Concentration ($\\mu g \\; L^{-1}$)', fontsize=12)\n"
     ]
    },
    {
     "data": {
      "image/png": "[encoded data removed]",
      "text/plain": [
       "<Figure size 640x480 with 1 Axes>"
      ]
     },
     "metadata": {},
     "output_type": "display_data"
    }
   ],
   "source": [
    "data1 = nutData[\"DT\"]\n",
    "#importan eliminite na´s\n",
    "data2 = nutData[\"tn.ugl\"].dropna()\n",
    "\n",
    "fig2, ax2 = plt.subplots()\n",
    "\n",
    "ax2.set_title('Notched boxes')\n",
    "\n",
    "# Two boxplots in one figure\n",
    "ax2.boxplot([data2, data1], notch=True)\n",
    "\n",
    "# Línea roja en y=0\n",
    "ax2.axhline(y=0, color='red', linestyle='--', linewidth=1)\n",
    "\n",
    "# Etiquetas en X para identificar cada boxplot\n",
    "ax2.set_xticks([1, 2])\n",
    "ax2.set_xticklabels([\"TN\", \"DT\"])\n",
    "\n",
    "plt.ylabel('Concentration ($\\mu g \\; L^{-1}$)', fontsize=12)\n",
    "plt.show()"
   ]
  },
  {
   "cell_type": "code",
   "execution_count": null,
   "id": "93b77560",
   "metadata": {},
   "outputs": [],
   "source": []
  }
 ],
 "metadata": {
  "kernelspec": {
   "display_name": "base",
   "language": "python",
   "name": "python3"
  },
  "language_info": {
   "codemirror_mode": {
    "name": "ipython",
    "version": 3
   },
   "file_extension": ".py",
   "mimetype": "text/x-python",
   "name": "python",
   "nbconvert_exporter": "python",
   "pygments_lexer": "ipython3",
   "version": "3.13.2"
  }
 },
 "nbformat": 4,
 "nbformat_minor": 5
}
