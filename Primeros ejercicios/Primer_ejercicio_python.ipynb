{
 "cells": [
  {
   "cell_type": "markdown",
   "id": "de2bbb20",
   "metadata": {},
   "source": [
    "# Mi primer programa\n",
    "## segunda linea \n",
    "**negritas**"
   ]
  },
  {
   "cell_type": "code",
   "execution_count": 1,
   "id": "2f71820b",
   "metadata": {},
   "outputs": [
    {
     "name": "stdout",
     "output_type": "stream",
     "text": [
      "hola mundo\n"
     ]
    }
   ],
   "source": [
    "print(\"hola mundo\")\n"
   ]
  },
  {
   "cell_type": "code",
   "execution_count": 2,
   "id": "069577ef",
   "metadata": {},
   "outputs": [
    {
     "name": "stdout",
     "output_type": "stream",
     "text": [
      "hola mundo\n",
      "hola mundo2\n"
     ]
    }
   ],
   "source": [
    "print(\"hola mundo\")\n",
    "print(\"hola mundo2\")"
   ]
  },
  {
   "cell_type": "code",
   "execution_count": 3,
   "id": "2b45aae2",
   "metadata": {},
   "outputs": [],
   "source": [
    "a=1\n",
    "b=2"
   ]
  },
  {
   "cell_type": "markdown",
   "id": "e46b665a",
   "metadata": {},
   "source": [
    "## imprime c"
   ]
  },
  {
   "cell_type": "code",
   "execution_count": 4,
   "id": "c712c3a0",
   "metadata": {},
   "outputs": [
    {
     "name": "stdout",
     "output_type": "stream",
     "text": [
      "La suma de 1 y 2 es 3\n"
     ]
    }
   ],
   "source": [
    "c = a + b\n",
    "print(f\"La suma de {a} y {b} es {c}\")      "
   ]
  },
  {
   "cell_type": "code",
   "execution_count": null,
   "id": "b0d34cdf",
   "metadata": {},
   "outputs": [],
   "source": []
  }
 ],
 "metadata": {
  "kernelspec": {
   "display_name": "jupyterlab",
   "language": "python",
   "name": "python3"
  },
  "language_info": {
   "codemirror_mode": {
    "name": "ipython",
    "version": 3
   },
   "file_extension": ".py",
   "mimetype": "text/x-python",
   "name": "python",
   "nbconvert_exporter": "python",
   "pygments_lexer": "ipython3",
   "version": "3.11.12"
  }
 },
 "nbformat": 4,
 "nbformat_minor": 5
}
