{
 "cells": [
  {
   "cell_type": "markdown",
   "id": "e7ad7e75",
   "metadata": {},
   "source": [
    "## nonparametric kruskal wallis\n",
    "\n",
    "3 o mas variables "
   ]
  },
  {
   "cell_type": "code",
   "execution_count": null,
   "id": "80c3ae5c",
   "metadata": {},
   "outputs": [],
   "source": [
    "def import_csv(file):\n",
    "    # Read the file into a DataFrame: df\n",
    "    import pandas as pd\n",
    "    return pd.read_csv(file)"
   ]
  },
  {
   "cell_type": "code",
   "execution_count": null,
   "id": "5f30156b",
   "metadata": {},
   "outputs": [],
   "source": [
    "# Path to the file to be imported\n",
    "path = \"Terminos_lagoon_TA_DIC_2023_RawData.csv\"\n",
    "\n",
    "# Import the file\n",
    "co2_data = import_csv(path)"
   ]
  },
  {
   "cell_type": "code",
   "execution_count": 13,
   "id": "ce4ab5c5",
   "metadata": {},
   "outputs": [
    {
     "name": "stdout",
     "output_type": "stream",
     "text": [
      "   sample      date     estuary   area station layer_depth season  \\\n",
      "0  CDL01S  5/3/2020  Candelaria  River   CDL01     Surface    Dry   \n",
      "1  CDL01F  5/3/2020  Candelaria  River   CDL01      Bottom    Dry   \n",
      "2  CDL02S  5/3/2020  Candelaria  River   CDL02     Surface    Dry   \n",
      "3  CDL02F  5/3/2020  Candelaria  River   CDL02      Bottom    Dry   \n",
      "4  CDL03S  5/3/2020  Candelaria  River   CDL03     Surface    Dry   \n",
      "\n",
      "   chlorophy_microg_l  cond_microsiemens_cm  depth_m  ...  do_mg_l  sal_psu  \\\n",
      "0                0.36                7015.4    0.464  ...     7.12     3.56   \n",
      "1                4.19               29886.1    7.792  ...     4.90    16.97   \n",
      "2                0.92               16691.1    0.453  ...     6.99     8.94   \n",
      "3                2.23               24847.4    1.261  ...     6.52    13.87   \n",
      "4                0.58               46341.6    0.465  ...     6.24    28.06   \n",
      "\n",
      "   sp_cond_microsiemens_cm  turbidity_fnu  temp_c  latitude  longitude  \\\n",
      "0                   6547.7           1.47  28.740  18.55736  -91.25012   \n",
      "1                  27751.2          95.33  29.028  18.55722  -91.24990   \n",
      "2                  15429.1           5.50  29.283  18.61007  -91.24410   \n",
      "3                  23074.0          13.44  29.024  18.61005  -91.24403   \n",
      "4                  43670.8           3.60  28.202  18.63166  -91.29359   \n",
      "\n",
      "   dic_micromol_kg  ta_micromol_kg  dummy_data  \n",
      "0             3915            3863      3685.0  \n",
      "1             3698            3685         NaN  \n",
      "2             3724            3708      3708.0  \n",
      "3             3667            3992      3992.0  \n",
      "4             2928            3023      3023.0  \n",
      "\n",
      "[5 rows x 21 columns]\n"
     ]
    }
   ],
   "source": [
    "print(co2_data.head())"
   ]
  },
  {
   "cell_type": "code",
   "execution_count": null,
   "id": "e9989bf8",
   "metadata": {},
   "outputs": [],
   "source": [
    "from scipy.stats import kruskal\n",
    "\n",
    "def kruskal_wallis_test(*groups, alpha=0.05):\n",
    "    \"\"\"\n",
    "    Performs the Kruskal-Wallis H-test for independent samples.\n",
    "    Accepts multiple groups as arguments.\n",
    "    Prints the H statistic, p-value, and interpretation.\n",
    "    \"\"\"\n",
    "    result = kruskal(*groups)\n",
    "    \n",
    "    print(f\"H statistic = {result.statistic}\")\n",
    "    print(f\"p-value = {result.pvalue}\")\n",
    "    \n",
    "    if result.pvalue < alpha:\n",
    "        print(\"The difference between groups is statistically significant.\")\n",
    "    else:\n",
    "        print(\"No statistically significant difference between groups.\")"
   ]
  },
  {
   "cell_type": "code",
   "execution_count": null,
   "id": "e1c4e1f3",
   "metadata": {},
   "outputs": [],
   "source": [
    "import scikit_posthocs as sp\n",
    "# You need to install the scikit-posthocs package: conda install -c conda-forge scikit-posthocs\n",
    "\n",
    "def dunn_posthoc(data, group_col, value_col, p_adjust='bonferroni'):\n",
    "    \"\"\"\n",
    "    Runs Dunn's post-hoc test after Kruskal-Wallis.\n",
    "    \"\"\"\n",
    "    result = sp.posthoc_dunn(data, val_col=value_col, group_col=group_col, p_adjust=p_adjust)\n",
    "    print(result)\n",
    "    return result"
   ]
  },
  {
   "cell_type": "code",
   "execution_count": null,
   "id": "961e4fad",
   "metadata": {},
   "outputs": [],
   "source": [
    "# Plot ta values for each area of the lagoon using seaborn\n",
    "import seaborn as sns\n",
    "import matplotlib.pyplot as plt\n",
    "\n",
    "sns.boxplot(x='area', y='ta_micromol_kg', data=co2_data)\n",
    "plt.xlabel('Area of the lagoon')\n",
    "plt.ylabel('Total Alkalinity (micromol/kg)')\n",
    "plt.title('Total Alkalinity by Area of the Lagoon')\n",
    "plt.show()"
   ]
  },
  {
   "cell_type": "code",
   "execution_count": null,
   "id": "abe1e7a5",
   "metadata": {},
   "outputs": [],
   "source": [
    "# Select the data for each area of the lagoon\n",
    "ta_river = co2_data[co2_data['area'] == 'River']['ta_micromol_kg']\n",
    "ta_plume = co2_data[co2_data['area'] == 'Plume']['ta_micromol_kg']\n",
    "ta_coast= co2_data[co2_data['area'] == 'Coast']['ta_micromol_kg']"
   ]
  },
  {
   "cell_type": "code",
   "execution_count": null,
   "id": "4908313c",
   "metadata": {},
   "outputs": [],
   "source": [
    "# Perform the Kruskal-Wallis test\n",
    "kruskal_wallis_test(ta_river, ta_plume, ta_coast)"
   ]
  },
  {
   "cell_type": "code",
   "execution_count": null,
   "id": "1c7edc78",
   "metadata": {},
   "outputs": [],
   "source": [
    "dunn_posthoc(co2_data, 'area', 'ta_micromol_kg')"
   ]
  },
  {
   "cell_type": "markdown",
   "id": "e9b43f5b",
   "metadata": {},
   "source": [
    "## tarea DIC y Temperatura Kruskal-Wallis"
   ]
  },
  {
   "cell_type": "code",
   "execution_count": 18,
   "id": "cbf5d7e8",
   "metadata": {},
   "outputs": [
    {
     "name": "stderr",
     "output_type": "stream",
     "text": [
      "<>:7: SyntaxWarning: invalid escape sequence '\\;'\n",
      "<>:7: SyntaxWarning: invalid escape sequence '\\;'\n",
      "C:\\Users\\Lab\\AppData\\Local\\Temp\\ipykernel_11672\\3252482910.py:7: SyntaxWarning: invalid escape sequence '\\;'\n",
      "  plt.ylabel('DIC ($\\\\mu mol \\; kg^{-1}$)')\n"
     ]
    },
    {
     "data": {
      "image/png": "[encoded data removed]",
      "text/plain": [
       "<Figure size 640x480 with 1 Axes>"
      ]
     },
     "metadata": {},
     "output_type": "display_data"
    }
   ],
   "source": [
    "# Plot ta values for each area of the lagoon using seaborn\n",
    "import seaborn as sns\n",
    "import matplotlib.pyplot as plt\n",
    "\n",
    "sns.boxplot(x='area', y='dic_micromol_kg', data=co2_data)\n",
    "plt.xlabel('Area of the lagoon')\n",
    "plt.ylabel('DIC ($\\\\mu mol \\; kg^{-1}$)')\n",
    "plt.title('DIC by Area of the Lagoon')\n",
    "plt.show()"
   ]
  },
  {
   "cell_type": "code",
   "execution_count": 16,
   "id": "1603981e",
   "metadata": {},
   "outputs": [],
   "source": [
    "# Select the data for each area of the lagoon\n",
    "dic_river = co2_data[co2_data['area'] == 'River']['dic_micromol_kg']\n",
    "dic_plume = co2_data[co2_data['area'] == 'Plume']['dic_micromol_kg']\n",
    "dic_coast= co2_data[co2_data['area'] == 'Coast']['dic_micromol_kg']"
   ]
  },
  {
   "cell_type": "code",
   "execution_count": 17,
   "id": "f59ba646",
   "metadata": {},
   "outputs": [
    {
     "name": "stdout",
     "output_type": "stream",
     "text": [
      "H statistic = 55.889669058187486\n",
      "p-value = 7.306553461098262e-13\n",
      "The difference between groups is statistically significant.\n"
     ]
    }
   ],
   "source": [
    "# Perform the Kruskal-Wallis test\n",
    "kruskal_wallis_test(dic_river, dic_plume, dic_coast)"
   ]
  },
  {
   "cell_type": "code",
   "execution_count": 19,
   "id": "d507e9e5",
   "metadata": {},
   "outputs": [
    {
     "name": "stdout",
     "output_type": "stream",
     "text": [
      "              Coast     Plume         River\n",
      "Coast  1.000000e+00  0.063144  7.204720e-13\n",
      "Plume  6.314392e-02  1.000000  1.885873e-06\n",
      "River  7.204720e-13  0.000002  1.000000e+00\n"
     ]
    },
    {
     "data": {
      "application/vnd.microsoft.datawrangler.viewer.v0+json": {
       "columns": [
        {
         "name": "index",
         "rawType": "object",
         "type": "string"
        },
        {
         "name": "Coast",
         "rawType": "float64",
         "type": "float"
        },
        {
         "name": "Plume",
         "rawType": "float64",
         "type": "float"
        },
        {
         "name": "River",
         "rawType": "float64",
         "type": "float"
        }
       ],
       "ref": "c5a36a0f-d9db-4316-9054-9e05e538254b",
       "rows": [
        [
         "Coast",
         "1.0",
         "0.06314391842749771",
         "7.204719560883086e-13"
        ],
        [
         "Plume",
         "0.06314391842749771",
         "1.0",
         "1.885872912149332e-06"
        ],
        [
         "River",
         "7.204719560883086e-13",
         "1.885872912149332e-06",
         "1.0"
        ]
       ],
       "shape": {
        "columns": 3,
        "rows": 3
       }
      },
      "text/html": [
       "<div>\n",
       "<style scoped>\n",
       "    .dataframe tbody tr th:only-of-type {\n",
       "        vertical-align: middle;\n",
       "    }\n",
       "\n",
       "    .dataframe tbody tr th {\n",
       "        vertical-align: top;\n",
       "    }\n",
       "\n",
       "    .dataframe thead th {\n",
       "        text-align: right;\n",
       "    }\n",
       "</style>\n",
       "<table border=\"1\" class=\"dataframe\">\n",
       "  <thead>\n",
       "    <tr style=\"text-align: right;\">\n",
       "      <th></th>\n",
       "      <th>Coast</th>\n",
       "      <th>Plume</th>\n",
       "      <th>River</th>\n",
       "    </tr>\n",
       "  </thead>\n",
       "  <tbody>\n",
       "    <tr>\n",
       "      <th>Coast</th>\n",
       "      <td>1.000000e+00</td>\n",
       "      <td>0.063144</td>\n",
       "      <td>7.204720e-13</td>\n",
       "    </tr>\n",
       "    <tr>\n",
       "      <th>Plume</th>\n",
       "      <td>6.314392e-02</td>\n",
       "      <td>1.000000</td>\n",
       "      <td>1.885873e-06</td>\n",
       "    </tr>\n",
       "    <tr>\n",
       "      <th>River</th>\n",
       "      <td>7.204720e-13</td>\n",
       "      <td>0.000002</td>\n",
       "      <td>1.000000e+00</td>\n",
       "    </tr>\n",
       "  </tbody>\n",
       "</table>\n",
       "</div>"
      ],
      "text/plain": [
       "              Coast     Plume         River\n",
       "Coast  1.000000e+00  0.063144  7.204720e-13\n",
       "Plume  6.314392e-02  1.000000  1.885873e-06\n",
       "River  7.204720e-13  0.000002  1.000000e+00"
      ]
     },
     "execution_count": 19,
     "metadata": {},
     "output_type": "execute_result"
    }
   ],
   "source": [
    "dunn_posthoc(co2_data, 'area', 'dic_micromol_kg')"
   ]
  },
  {
   "cell_type": "markdown",
   "id": "a757c8c8",
   "metadata": {},
   "source": [
    "## temperatura"
   ]
  },
  {
   "cell_type": "code",
   "execution_count": 20,
   "id": "e8df36ac",
   "metadata": {},
   "outputs": [
    {
     "data": {
      "image/png": "[encoded data removed]",
      "text/plain": [
       "<Figure size 640x480 with 1 Axes>"
      ]
     },
     "metadata": {},
     "output_type": "display_data"
    }
   ],
   "source": [
    "# Plot ta values for each area of the lagoon using seaborn\n",
    "import seaborn as sns\n",
    "import matplotlib.pyplot as plt\n",
    "\n",
    "sns.boxplot(x='area', y='temp_c', data=co2_data)\n",
    "plt.xlabel('Area of the lagoon')\n",
    "plt.ylabel('Temperature (°C)')\n",
    "plt.title('Temperature by Area of the Lagoon')\n",
    "plt.show()"
   ]
  },
  {
   "cell_type": "code",
   "execution_count": 21,
   "id": "3904f39e",
   "metadata": {},
   "outputs": [],
   "source": [
    "# Select the data for each area of the lagoon\n",
    "temp_river = co2_data[co2_data['area'] == 'River']['temp_c']\n",
    "temp_plume = co2_data[co2_data['area'] == 'Plume']['temp_c']\n",
    "temp_coast= co2_data[co2_data['area'] == 'Coast']['temp_c']"
   ]
  },
  {
   "cell_type": "code",
   "execution_count": 22,
   "id": "1f53528f",
   "metadata": {},
   "outputs": [
    {
     "name": "stdout",
     "output_type": "stream",
     "text": [
      "H statistic = 7.6996429549091365\n",
      "p-value = 0.021283535690208223\n",
      "The difference between groups is statistically significant.\n"
     ]
    }
   ],
   "source": [
    "# Perform the Kruskal-Wallis test\n",
    "kruskal_wallis_test(temp_river, temp_plume, temp_coast)"
   ]
  },
  {
   "cell_type": "code",
   "execution_count": 23,
   "id": "5277a7ef",
   "metadata": {},
   "outputs": [
    {
     "name": "stdout",
     "output_type": "stream",
     "text": [
      "          Coast    Plume     River\n",
      "Coast  1.000000  0.06468  0.038761\n",
      "Plume  0.064680  1.00000  1.000000\n",
      "River  0.038761  1.00000  1.000000\n"
     ]
    },
    {
     "data": {
      "application/vnd.microsoft.datawrangler.viewer.v0+json": {
       "columns": [
        {
         "name": "index",
         "rawType": "object",
         "type": "string"
        },
        {
         "name": "Coast",
         "rawType": "float64",
         "type": "float"
        },
        {
         "name": "Plume",
         "rawType": "float64",
         "type": "float"
        },
        {
         "name": "River",
         "rawType": "float64",
         "type": "float"
        }
       ],
       "ref": "ccfef72e-30be-4bd2-9bf8-efee15efc1e6",
       "rows": [
        [
         "Coast",
         "1.0",
         "0.06468016674704698",
         "0.03876148053811021"
        ],
        [
         "Plume",
         "0.06468016674704698",
         "1.0",
         "1.0"
        ],
        [
         "River",
         "0.03876148053811021",
         "1.0",
         "1.0"
        ]
       ],
       "shape": {
        "columns": 3,
        "rows": 3
       }
      },
      "text/html": [
       "<div>\n",
       "<style scoped>\n",
       "    .dataframe tbody tr th:only-of-type {\n",
       "        vertical-align: middle;\n",
       "    }\n",
       "\n",
       "    .dataframe tbody tr th {\n",
       "        vertical-align: top;\n",
       "    }\n",
       "\n",
       "    .dataframe thead th {\n",
       "        text-align: right;\n",
       "    }\n",
       "</style>\n",
       "<table border=\"1\" class=\"dataframe\">\n",
       "  <thead>\n",
       "    <tr style=\"text-align: right;\">\n",
       "      <th></th>\n",
       "      <th>Coast</th>\n",
       "      <th>Plume</th>\n",
       "      <th>River</th>\n",
       "    </tr>\n",
       "  </thead>\n",
       "  <tbody>\n",
       "    <tr>\n",
       "      <th>Coast</th>\n",
       "      <td>1.000000</td>\n",
       "      <td>0.06468</td>\n",
       "      <td>0.038761</td>\n",
       "    </tr>\n",
       "    <tr>\n",
       "      <th>Plume</th>\n",
       "      <td>0.064680</td>\n",
       "      <td>1.00000</td>\n",
       "      <td>1.000000</td>\n",
       "    </tr>\n",
       "    <tr>\n",
       "      <th>River</th>\n",
       "      <td>0.038761</td>\n",
       "      <td>1.00000</td>\n",
       "      <td>1.000000</td>\n",
       "    </tr>\n",
       "  </tbody>\n",
       "</table>\n",
       "</div>"
      ],
      "text/plain": [
       "          Coast    Plume     River\n",
       "Coast  1.000000  0.06468  0.038761\n",
       "Plume  0.064680  1.00000  1.000000\n",
       "River  0.038761  1.00000  1.000000"
      ]
     },
     "execution_count": 23,
     "metadata": {},
     "output_type": "execute_result"
    }
   ],
   "source": [
    "dunn_posthoc(co2_data, 'area', 'temp_c')"
   ]
  }
 ],
 "metadata": {
  "kernelspec": {
   "display_name": "base",
   "language": "python",
   "name": "python3"
  },
  "language_info": {
   "codemirror_mode": {
    "name": "ipython",
    "version": 3
   },
   "file_extension": ".py",
   "mimetype": "text/x-python",
   "name": "python",
   "nbconvert_exporter": "python",
   "pygments_lexer": "ipython3",
   "version": "3.13.2"
  }
 },
 "nbformat": 4,
 "nbformat_minor": 5
}
