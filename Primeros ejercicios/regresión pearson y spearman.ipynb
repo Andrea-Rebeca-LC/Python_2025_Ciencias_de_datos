{
 "cells": [
  {
   "cell_type": "markdown",
   "id": "0fc9ebff",
   "metadata": {},
   "source": [
    "Spearman's Correlation"
   ]
  },
  {
   "cell_type": "code",
   "execution_count": 2,
   "id": "bc118df4",
   "metadata": {},
   "outputs": [],
   "source": [
    "import pandas as pd\n",
    "\n",
    "CO2Data = pd.read_csv(\"Terminos_lagoon_TA_DIC_2023_RawData.csv\")"
   ]
  },
  {
   "cell_type": "code",
   "execution_count": 1,
   "id": "19bf286b",
   "metadata": {},
   "outputs": [],
   "source": [
    "from scipy import stats\n",
    "\n",
    "def test_spearman(x, y, alpha=0.05):\n",
    "    if len(x) != len(y):\n",
    "        raise ValueError(\"Las variables deben tener la misma longitud.\")\n",
    "\n",
    "    rho, pval = stats.spearmanr(x, y)\n",
    "\n",
    "    print(f\"Spearman's correlation coefficient (rho): {rho:.3f}\")\n",
    "    print(f\"p-value: {pval:.4f}\")\n",
    "\n",
    "    if pval < alpha:\n",
    "        print(f\"✔️ Significant relationship (p < {alpha:.3f})\")\n",
    "    else:\n",
    "        print(f\"⚠️ No significant relationship (p ≥ {alpha:.3f})\")\n",
    "\n",
    "    if rho > 0:\n",
    "        print(\"📈 Positive correlation\")\n",
    "    else:\n",
    "        print(\"📉 Negative correlation\")"
   ]
  },
  {
   "cell_type": "code",
   "execution_count": 3,
   "id": "0ab34099",
   "metadata": {},
   "outputs": [
    {
     "name": "stdout",
     "output_type": "stream",
     "text": [
      "Spearman's correlation coefficient (rho): 0.838\n",
      "p-value: 0.0000\n",
      "✔️ Significant relationship (p < 0.050)\n",
      "📈 Positive correlation\n"
     ]
    }
   ],
   "source": [
    "test_spearman(CO2Data[\"ta_micromol_kg\"], CO2Data[\"dic_micromol_kg\"])"
   ]
  },
  {
   "cell_type": "markdown",
   "id": "c39924f7",
   "metadata": {},
   "source": [
    "Tarea:  función para correlación sea pearson o spearman "
   ]
  },
  {
   "cell_type": "code",
   "execution_count": 4,
   "id": "de6636ee",
   "metadata": {},
   "outputs": [],
   "source": [
    "from scipy import stats\n",
    "\n",
    "def test_correlation(x, y, method=\"pearson\", alpha=0.05):\n",
    "    \"\"\"\n",
    "    Calcula y prueba significancia de la correlación (Pearson o Spearman).\n",
    "\n",
    "    Parámetros:\n",
    "        x, y : listas o arrays numéricos\n",
    "        method : str, \"pearson\" o \"spearman\"\n",
    "        alpha : nivel de significancia (default=0.05)\n",
    "    \"\"\"\n",
    "\n",
    "    if len(x) != len(y):\n",
    "        raise ValueError(\"Las variables deben tener la misma longitud.\")\n",
    "\n",
    "    if method == \"pearson\":\n",
    "        coef, pval = stats.pearsonr(x, y)\n",
    "        name = \"Pearson's correlation coefficient (r)\"\n",
    "    elif method == \"spearman\":\n",
    "        coef, pval = stats.spearmanr(x, y)\n",
    "        name = \"Spearman's correlation coefficient (rho)\"\n",
    "    else:\n",
    "        raise ValueError(\"El método debe ser 'pearson' o 'spearman'.\")\n",
    "\n",
    "    # Resultados\n",
    "    print(f\"{name}: {coef:.3f}\")\n",
    "    print(f\"p-value: {pval:.4f}\")\n",
    "\n",
    "    if pval < alpha:\n",
    "        print(f\"✔️ Relación significativa (p < {alpha:.3f})\")\n",
    "    else:\n",
    "        print(f\"⚠️ No significativa (p ≥ {alpha:.3f})\")\n",
    "\n",
    "    if coef > 0:\n",
    "        print(\"📈 Correlación positiva\")\n",
    "    else:\n",
    "        print(\"📉 Correlación negativa\")"
   ]
  },
  {
   "cell_type": "code",
   "execution_count": 5,
   "id": "d629f6a4",
   "metadata": {},
   "outputs": [
    {
     "name": "stdout",
     "output_type": "stream",
     "text": [
      "Pearson's correlation coefficient (r): 0.882\n",
      "p-value: 0.0000\n",
      "✔️ Relación significativa (p < 0.050)\n",
      "📈 Correlación positiva\n"
     ]
    }
   ],
   "source": [
    "test_correlation(CO2Data[\"ta_micromol_kg\"], \n",
    "                 CO2Data[\"dic_micromol_kg\"], \n",
    "                 method=\"pearson\")"
   ]
  },
  {
   "cell_type": "code",
   "execution_count": 6,
   "id": "9d4282d4",
   "metadata": {},
   "outputs": [
    {
     "name": "stdout",
     "output_type": "stream",
     "text": [
      "Spearman's correlation coefficient (rho): 0.838\n",
      "p-value: 0.0000\n",
      "✔️ Relación significativa (p < 0.050)\n",
      "📈 Correlación positiva\n"
     ]
    }
   ],
   "source": [
    "test_correlation(CO2Data[\"ta_micromol_kg\"], \n",
    "                 CO2Data[\"dic_micromol_kg\"], \n",
    "                 method=\"spearman\")"
   ]
  },
  {
   "cell_type": "code",
   "execution_count": null,
   "id": "524dc19f",
   "metadata": {},
   "outputs": [],
   "source": []
  }
 ],
 "metadata": {
  "kernelspec": {
   "display_name": "base",
   "language": "python",
   "name": "python3"
  },
  "language_info": {
   "codemirror_mode": {
    "name": "ipython",
    "version": 3
   },
   "file_extension": ".py",
   "mimetype": "text/x-python",
   "name": "python",
   "nbconvert_exporter": "python",
   "pygments_lexer": "ipython3",
   "version": "3.13.2"
  }
 },
 "nbformat": 4,
 "nbformat_minor": 5
}
