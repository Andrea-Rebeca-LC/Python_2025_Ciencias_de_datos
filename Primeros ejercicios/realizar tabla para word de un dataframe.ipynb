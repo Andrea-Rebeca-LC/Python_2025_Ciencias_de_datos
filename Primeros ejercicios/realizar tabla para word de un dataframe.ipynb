{
 "cells": [
  {
   "cell_type": "code",
   "execution_count": null,
   "id": "91a23434",
   "metadata": {},
   "outputs": [],
   "source": [
    "def import_csv(file):\n",
    "    # Read the file into a DataFrame: df\n",
    "    import pandas as pd\n",
    "    return pd.read_csv(file)"
   ]
  },
  {
   "cell_type": "code",
   "execution_count": 10,
   "id": "8ef2a7f0",
   "metadata": {},
   "outputs": [],
   "source": [
    "# Path to the file to be imported\n",
    "path = \"Terminos_lagoon_TA_DIC_2023_RawData.csv\"\n",
    "\n",
    "# Import the file\n",
    "CO2Data_df = import_csv(path)"
   ]
  },
  {
   "cell_type": "markdown",
   "id": "d2c0bce5",
   "metadata": {},
   "source": [
    "#Leer encabezados de base de datos"
   ]
  },
  {
   "cell_type": "code",
   "execution_count": null,
   "id": "2a2a050c",
   "metadata": {},
   "outputs": [],
   "source": [
    "print(CO2Data_df.head())"
   ]
  },
  {
   "cell_type": "code",
   "execution_count": 11,
   "id": "cf8fb369",
   "metadata": {},
   "outputs": [],
   "source": [
    "#definir columnas analizar\n",
    "variables = ['dic_micromol_kg', 'ta_micromol_kg', 'sal_psu']\n",
    "#calcular la media y sd para temporada y estuario\n",
    "result = CO2Data_df.groupby(['season','estuary'])[variables].agg(['mean','std']).reset_index()"
   ]
  },
  {
   "cell_type": "code",
   "execution_count": 12,
   "id": "ead16819",
   "metadata": {},
   "outputs": [
    {
     "name": "stdout",
     "output_type": "stream",
     "text": [
      "  season_    estuary_  dic_micromol_kg_mean  dic_micromol_kg_std  \\\n",
      "0     Dry  Candelaria           2917.055556           630.585893   \n",
      "1     Dry    Palizada           2968.194444           391.242257   \n",
      "2   Rainy  Candelaria           2474.125000           306.407980   \n",
      "3   Rainy    Palizada           2507.277778           216.751092   \n",
      "\n",
      "   ta_micromol_kg_mean  ta_micromol_kg_std  sal_psu_mean  sal_psu_std  \n",
      "0          3076.777778          556.680114     23.633889    12.121592  \n",
      "1          3107.888889          323.177154     16.392500    13.830189  \n",
      "2          2537.062500          192.848635     15.165000    13.937384  \n",
      "3          2529.333333          260.962923      8.533333     9.940109  \n"
     ]
    }
   ],
   "source": [
    "#primero renombrar variables\n",
    "result.columns = ['_'.join(col).strip() if isinstance(col, tuple) else col for col in result.columns]\n",
    "#mostrar resultado \n",
    "print(result)"
   ]
  },
  {
   "cell_type": "code",
   "execution_count": 13,
   "id": "fe492dc7",
   "metadata": {},
   "outputs": [],
   "source": [
    "#importar pandas \n",
    "import pandas as pd\n",
    "from tabulate import tabulate"
   ]
  },
  {
   "cell_type": "code",
   "execution_count": null,
   "id": "eac306a6",
   "metadata": {},
   "outputs": [],
   "source": [
    "#asignar nombres de columnas \n",
    "result.columns = ['season', 'estuary'] + [f\"{var}_{stat}\" for var in variables for stat in ['mean', 'std']]\n",
    "#formatear valores para obtener media y sd de dos cifras  \n",
    "#si se pone 2g el resultado lo dara en notación cientifica si cambienmos a 2 f es a decimal con 2 cifras \n",
    "for var in variables:\n",
    "    mean_col = f\"{var}_mean\"\n",
    "    std_col = f\"{var}_std\"\n",
    "    result[f\"{var}_formatted\"] = result.apply(lambda row: f\"[{row[mean_col]:.2f} ± {row[std_col]:.2f}]\", axis=1)\n"
   ]
  },
  {
   "cell_type": "code",
   "execution_count": 15,
   "id": "d67ff65a",
   "metadata": {},
   "outputs": [
    {
     "name": "stdout",
     "output_type": "stream",
     "text": [
      "+--------+------------+---------------------------+--------------------------+-------------------+\n",
      "| season |  estuary   | dic_micromol_kg_formatted | ta_micromol_kg_formatted | sal_psu_formatted |\n",
      "+--------+------------+---------------------------+--------------------------+-------------------+\n",
      "|  Dry   | Candelaria |    [2917.06 ± 630.59]     |    [3076.78 ± 556.68]    |  [23.63 ± 12.12]  |\n",
      "|  Dry   |  Palizada  |    [2968.19 ± 391.24]     |    [3107.89 ± 323.18]    |  [16.39 ± 13.83]  |\n",
      "| Rainy  | Candelaria |    [2474.12 ± 306.41]     |    [2537.06 ± 192.85]    |  [15.16 ± 13.94]  |\n",
      "| Rainy  |  Palizada  |    [2507.28 ± 216.75]     |    [2529.33 ± 260.96]    |   [8.53 ± 9.94]   |\n",
      "+--------+------------+---------------------------+--------------------------+-------------------+\n"
     ]
    }
   ],
   "source": [
    "\n",
    "#selecciona columnas a formatear junto con los indices\n",
    "formatted_result = result[[\"season\", \"estuary\"] + [f\"{var}_formatted\" for var in variables]]\n",
    "#mostrar tabla de resultado\n",
    "table = tabulate(formatted_result, headers='keys', tablefmt='pretty', showindex=False)\n",
    "print(table)"
   ]
  },
  {
   "cell_type": "code",
   "execution_count": 16,
   "id": "40d9f7b1",
   "metadata": {},
   "outputs": [],
   "source": [
    "#vamos a guardar un archivo\n",
    "formatted_result.to_csv(\"resultados_agrupados.csv\", index=False)"
   ]
  },
  {
   "cell_type": "code",
   "execution_count": null,
   "id": "4cf2e1ed",
   "metadata": {},
   "outputs": [],
   "source": [
    "# Print variable names\n",
    "print(CO2Data_df.columns)"
   ]
  },
  {
   "cell_type": "code",
   "execution_count": null,
   "id": "ebf9f58e",
   "metadata": {},
   "outputs": [],
   "source": [
    "ta = CO2Data_df['ta_micromol_kg']"
   ]
  },
  {
   "cell_type": "code",
   "execution_count": null,
   "id": "15f7034f",
   "metadata": {},
   "outputs": [],
   "source": [
    "dic = CO2Data_df['dic_micromol_kg']"
   ]
  },
  {
   "cell_type": "code",
   "execution_count": null,
   "id": "4aadcaf0",
   "metadata": {},
   "outputs": [],
   "source": [
    "chl = CO2Data_df['chlorophy_microg_l']"
   ]
  },
  {
   "cell_type": "code",
   "execution_count": null,
   "id": "31982548",
   "metadata": {},
   "outputs": [],
   "source": [
    "do = CO2Data_df['do_percent_sat']"
   ]
  },
  {
   "cell_type": "code",
   "execution_count": null,
   "id": "310b49bc",
   "metadata": {},
   "outputs": [],
   "source": [
    "temp = CO2Data_df['temp_c']"
   ]
  },
  {
   "cell_type": "code",
   "execution_count": null,
   "id": "529924c3",
   "metadata": {},
   "outputs": [],
   "source": [
    "dic_ta_data = CO2Data_df[['dic_micromol_kg', 'ta_micromol_kg']]"
   ]
  },
  {
   "cell_type": "code",
   "execution_count": null,
   "id": "ca386c65",
   "metadata": {},
   "outputs": [],
   "source": [
    "eutro = CO2Data_df[['chlorophy_microg_l', 'do_percent_sat', 'temp_c']]"
   ]
  },
  {
   "cell_type": "code",
   "execution_count": null,
   "id": "bd96d621",
   "metadata": {},
   "outputs": [],
   "source": [
    "eutro.plot()"
   ]
  },
  {
   "cell_type": "code",
   "execution_count": null,
   "id": "0e482af9",
   "metadata": {},
   "outputs": [],
   "source": [
    "dic_ta_data.plot()"
   ]
  },
  {
   "cell_type": "code",
   "execution_count": null,
   "id": "cf6b7850",
   "metadata": {},
   "outputs": [],
   "source": [
    "CO2Data_rainy = CO2Data_df[CO2Data_df['season'] == 'Rainy']"
   ]
  },
  {
   "cell_type": "code",
   "execution_count": null,
   "id": "1d9c2877",
   "metadata": {},
   "outputs": [],
   "source": [
    "CO2Data_rainy"
   ]
  },
  {
   "cell_type": "code",
   "execution_count": null,
   "id": "e4883a73",
   "metadata": {},
   "outputs": [],
   "source": [
    "CO2Data_no_Candelaria = CO2Data_df[CO2Data_df['estuary'] != 'Candelaria']"
   ]
  },
  {
   "cell_type": "code",
   "execution_count": null,
   "id": "83ab3373",
   "metadata": {},
   "outputs": [],
   "source": [
    "CO2Data_surface = CO2Data_df[CO2Data_df['depth_m'] > 0.5 ]"
   ]
  },
  {
   "cell_type": "code",
   "execution_count": null,
   "id": "2bbd8d9e",
   "metadata": {},
   "outputs": [],
   "source": [
    "CO2Data_surface"
   ]
  },
  {
   "cell_type": "code",
   "execution_count": null,
   "id": "a81c10a5",
   "metadata": {},
   "outputs": [],
   "source": []
  }
 ],
 "metadata": {
  "kernelspec": {
   "display_name": "base",
   "language": "python",
   "name": "python3"
  },
  "language_info": {
   "codemirror_mode": {
    "name": "ipython",
    "version": 3
   },
   "file_extension": ".py",
   "mimetype": "text/x-python",
   "name": "python",
   "nbconvert_exporter": "python",
   "pygments_lexer": "ipython3",
   "version": "3.13.2"
  }
 },
 "nbformat": 4,
 "nbformat_minor": 5
}
